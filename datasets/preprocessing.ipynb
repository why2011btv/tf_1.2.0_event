{
 "cells": [
  {
   "cell_type": "markdown",
   "metadata": {},
   "source": [
    "### Tokenizer"
   ]
  },
  {
   "cell_type": "code",
   "execution_count": 2,
   "metadata": {},
   "outputs": [],
   "source": [
    "from nltk.tokenize import sent_tokenize, word_tokenize\n",
    "import tqdm"
   ]
  },
  {
   "cell_type": "code",
   "execution_count": 36,
   "metadata": {},
   "outputs": [
    {
     "name": "stdout",
     "output_type": "stream",
     "text": [
      "['A', 'team', 'of', 'international', 'observers', 'that', 'came', 'under', 'fire', 'in', 'northern', 'Syria', 'was', 'apparently', 'stranded', 'in', 'the', 'area', 'overnight', ',', 'and', 'United', 'Nations', 'officials', 'said', 'Wednesday', 'they', 'hope', 'to', 'evacuate', 'the', 'group', 'within', 'hours', '.', 'A', 'roadside', 'bomb', 'struck', 'the', 'team', \"'s\", 'vehicles', 'Tuesday', 'during', 'a', 'mission', 'in', 'the', 'northern', 'town', 'of', 'Khan', 'Sheikhoun', ',', 'but', 'none', 'of', 'the', 'observers', 'was', 'wounded', '.', 'The', 'attack', ',', 'which', 'came', 'minutes', 'after', 'witnesses', 'said', 'regime', 'forces', 'gunned', 'down', 'mourners', 'at', 'a', 'funeral', 'procession', 'nearby', ',', 'dealt', 'a', 'fresh', 'blow', 'to', 'international', 'envoy', 'Kofi', 'Annan', \"'s\", 'peace', 'plan', '.', 'Activists', 'said', 'the', 'violence', 'continued', 'Wednesday', 'with', 'regime', 'forces', 'opening', 'fire', 'from', 'the', 'outskirts', 'of', 'Khan', 'Sheikhoun', '.', 'Rami', 'Abdul-Rahman', ',', 'who', 'heads', 'the', 'Britain-based', 'Syrian', 'Observatory', 'for', 'Human', 'Rights', 'activist', 'group', ',', 'said', 'the', 'heavy', 'machine-gun', 'fire', 'has', 'so', 'far', 'prevented', 'people', 'from', 'holding', 'funerals', 'for', 'some', 'of', 'the', '20', 'mourners', 'who', 'were', 'killed', 'at', 'the', 'funeral', 'a', 'day', 'earlier', '.', 'The', 'U.N.', 'said', 'rebel', 'forces', 'had', 'given', 'the', 'observers', 'shelter', 'in', 'the', 'town', ',', 'which', 'has', 'witnessed', 'anti-government', 'protests', 'since', 'an', 'uprising', 'against', 'President', 'Bashar', 'Assad', \"'s\", 'regime', 'began', 'in', 'March', 'last', 'year', '.', 'Maj.', 'Gen.', 'Robert', 'Mood', ',', 'the', 'Norwegian', 'head', 'of', 'the', 'U.N.', 'team', ',', 'told', 'reporters', 'Wednesday', 'that', 'he', 'had', 'spoken', 'with', 'the', 'observers', 'in', 'Khan', 'Sheikhoun', 'by', 'telephone', 'and', 'that', 'they', '``', 'told', 'us', 'that', 'they', 'are', 'happy', 'and', 'safe', 'where', 'they', 'are', '.', \"''\", 'Ahmad', 'Fawzi', ',', 'Annan', \"'s\", 'spokesman', ',', 'said', 'in', 'a', 'statement', 'that', 'the', 'mission', 'will', 'recover', 'the', 'six', 'staff', 'members', 'later', 'Wednesday', '.', '``', 'The', 'U.N.', 'staff', 'members', 'are', 'co-located', 'with', 'opposition', 'elements', '...', 'and', 'are', 'reportedly', 'being', 'treated', 'well', '.', \"''\", 'Fawzi', 'said', 'the', 'observers', 'were', 'caught', 'up', 'in', 'the', 'explosion', 'as', 'they', 'met', 'with', 'the', 'rebel', 'Free', 'Syrian', 'Army', '.', 'He', 'said', 'three', 'vehicles', 'were', 'damaged', '.', 'More', 'than', '200', 'U.N.', 'observers', 'have', 'been', 'deployed', 'throughout', 'Syria', 'to', 'monitor', 'a', 'cease-fire', 'agreement', 'that', 'has', 'been', 'repeatedly', 'violated', 'by', 'both', 'sides', 'since', 'it', 'took', 'effect', 'on', 'April', '12', '.', 'Tuesday', \"'s\", 'attack', 'was', 'at', 'least', 'the', 'second', 'time', 'the', 'U.N.', 'observers', 'have', 'been', 'caught', 'up', 'in', 'Syria', \"'s\", 'violence', '.', 'Last', 'week', ',', 'a', 'roadside', 'bomb', 'struck', 'a', 'Syrian', 'military', 'truck', 'in', 'the', 'south', 'of', 'the', 'country', 'just', 'seconds', 'after', 'Mood', 'rode', 'by', 'in', 'a', 'convoy', '.', 'It', 'was', 'not', 'clear', 'who', 'was', 'behind', 'the', 'blast', 'and', 'no', 'one', 'claimed', 'responsibility', '.', 'A', 'video', 'posted', 'by', 'activists', 'online', 'appeared', 'to', 'show', 'the', 'exact', 'moment', 'the', 'U.N.', 'vehicle', 'was', 'struck', '.', 'The', 'video', 'shows', 'two', 'white', 'vehicles', 'clearly', 'marked', '``', 'U.N', \"''\", 'with', 'people', 'milling', 'around', 'it', ',', 'and', 'two', 'others', 'parked', 'a', 'few', 'meters', '(', 'yards', ')', 'behind', '.', 'Slippers', 'apparently', 'left', 'behind', 'by', 'the', 'mourners', 'running', 'away', 'from', 'the', 'shooting', 'earlier', 'are', 'seen', 'strewn', 'about', 'on', 'the', 'ground', '.', 'The', 'blast', 'blew', 'off', 'the', 'front', 'of', 'the', 'first', 'vehicle', 'and', 'sent', 'up', 'a', 'plume', 'of', 'smoke', 'as', 'people', 'screamed', 'and', 'frantically', 'ran', 'for', 'cover', '.', 'The', 'four', 'cars', 'are', 'then', 'seen', 'slowly', 'driving', 'away', '.', 'It', 'was', 'not', 'clear', 'how', 'close', 'the', 'observers', 'were', 'to', 'the', 'funeral', 'shootings', ',', 'but', 'if', 'confirmed', ',', 'a', 'regime', 'attack', 'on', 'civilians', 'directly', 'in', 'front', 'of', 'the', 'observer', 'mission', 'could', 'put', 'pressure', 'on', 'them', 'to', 'describe', 'publicly', 'what', 'they', 'are', 'seeing', 'in', 'Syria', '.', 'They', 'report', 'back', 'to', 'the', 'U.N.', 'but', 'have', 'not', 'publicized', 'their', 'findings', '.', 'Syria', \"'s\", 'state-run', 'TV', ',', 'meanwhile', ',', 'reported', 'Wednesday', 'that', 'authorities', 'released', '250', 'people', 'who', 'were', 'involved', 'in', 'the', 'uprising', '.', 'Assad', 'has', 'issued', 'several', 'pardons', 'releasing', 'thousands', 'of', 'detainees', 'since', 'the', 'crisis', 'began', '.', 'The', 'Observatory', 'also', 'said', 'Syrian', 'forces', 'opened', 'fire', 'at', 'the', 'Naziheen', 'Palestinian', 'refugee', 'camp', 'in', 'the', 'southern', 'city', 'of', 'Daraa', ',', 'killing', 'four', 'people', '.', 'The', 'pro-government', 'TV', 'station', 'Ikhbariyah', 'blamed', 'members', 'of', '``', 'an', 'armed', 'terrorist', 'group', ',', \"''\", 'saying', 'they', 'fired', 'two', 'rocket-propelled', 'grenades', 'at', 'the', 'camp', ',', 'killing', 'a', '4-year-old', 'girl', 'and', 'wounding', '15', 'other', 'people', '.', 'The', 'Syrian', 'uprising', 'began', 'with', 'mostly', 'peaceful', 'protests', 'calling', 'for', 'change', ',', 'but', 'a', 'relentless', 'government', 'crackdown', 'led', 'many', 'in', 'the', 'opposition', 'to', 'take', 'up', 'arms', '.', 'Some', 'soldiers', 'also', 'have', 'switched', 'sides', 'and', 'joined', 'forces', 'with', 'the', 'rebels', '.', 'The', 'U.N.', 'estimates', 'the', 'conflict', 'has', 'killed', 'more', 'than', '9,000', 'people', '.']\n"
     ]
    }
   ],
   "source": [
    "te = \"A team of international observers that came under fire in northern Syria was apparently stranded in the area overnight, and United Nations officials said Wednesday they hope to evacuate the group within hours. A roadside bomb struck the team's vehicles Tuesday during a mission in the northern town of Khan Sheikhoun, but none of the observers was wounded. The attack, which came minutes after witnesses said regime forces gunned down mourners at a funeral procession nearby, dealt a fresh blow to international envoy Kofi Annan's peace plan. Activists said the violence continued Wednesday with regime forces opening fire from the outskirts of Khan Sheikhoun. Rami Abdul-Rahman, who heads the Britain-based Syrian Observatory for Human Rights activist group, said the heavy machine-gun fire has so far prevented people from holding funerals for some of the 20 mourners who were killed at the funeral a day earlier. The U.N. said rebel forces had given the observers shelter in the town, which has witnessed anti-government protests since an uprising against President Bashar Assad's regime began in March last year. Maj. Gen. Robert Mood, the Norwegian head of the U.N. team, told reporters Wednesday that he had spoken with the observers in Khan Sheikhoun by telephone and that they \\\"told us that they are happy and safe where they are.\\\" Ahmad Fawzi, Annan's spokesman, said in a statement that the mission will recover the six staff members later Wednesday. \\\"The U.N. staff members are co-located with opposition elements ... and are reportedly being treated well.\\\" Fawzi said the observers were caught up in the explosion as they met with the rebel Free Syrian Army. He said three vehicles were damaged. More than 200 U.N. observers have been deployed throughout Syria to monitor a cease-fire agreement that has been repeatedly violated by both sides since it took effect on April 12. Tuesday's attack was at least the second time the U.N. observers have been caught up in Syria's violence. Last week, a roadside bomb struck a Syrian military truck in the south of the country just seconds after Mood rode by in a convoy. It was not clear who was behind the blast and no one claimed responsibility. A video posted by activists online appeared to show the exact moment the U.N. vehicle was struck. The video shows two white vehicles clearly marked \\\"U.N\\\" with people milling around it, and two others parked a few meters (yards) behind. Slippers apparently left behind by the mourners running away from the shooting earlier are seen strewn about on the ground. The blast blew off the front of the first vehicle and sent up a plume of smoke as people screamed and frantically ran for cover. The four cars are then seen slowly driving away. It was not clear how close the observers were to the funeral shootings, but if confirmed, a regime attack on civilians directly in front of the observer mission could put pressure on them to describe publicly what they are seeing in Syria. They report back to the U.N. but have not publicized their findings. Syria's state-run TV, meanwhile, reported Wednesday that authorities released 250 people who were involved in the uprising. Assad has issued several pardons releasing thousands of detainees since the crisis began. The Observatory also said Syrian forces opened fire at the Naziheen Palestinian refugee camp in the southern city of Daraa, killing four people. The pro-government TV station Ikhbariyah blamed members of \\\"an armed terrorist group,\\\" saying they fired two rocket-propelled grenades at the camp, killing a 4-year-old girl and wounding 15 other people. The Syrian uprising began with mostly peaceful protests calling for change, but a relentless government crackdown led many in the opposition to take up arms. Some soldiers also have switched sides and joined forces with the rebels. The U.N. estimates the conflict has killed more than 9,000 people.\"\n",
    "print (word_tokenize(te))"
   ]
  },
  {
   "cell_type": "markdown",
   "metadata": {},
   "source": [
    "### HiEve"
   ]
  },
  {
   "cell_type": "code",
   "execution_count": 3,
   "metadata": {},
   "outputs": [
    {
     "name": "stdout",
     "output_type": "stream",
     "text": [
      "['article-10901.xml', 'article-1126.xml', 'article-11554.xml']\n"
     ]
    }
   ],
   "source": [
    "from os import listdir\n",
    "from os.path import isfile, join\n",
    "mypath = 'hievents/'\n",
    "onlyfiles = [f for f in listdir(mypath) if isfile(join(mypath, f))]\n",
    "print (onlyfiles[:3])"
   ]
  },
  {
   "cell_type": "code",
   "execution_count": 5,
   "metadata": {},
   "outputs": [
    {
     "name": "stderr",
     "output_type": "stream",
     "text": [
      "100%|████████████████████████████████████████████████████████████████████████████████| 100/100 [00:01<00:00, 73.26it/s]\n"
     ]
    },
    {
     "name": "stdout",
     "output_type": "stream",
     "text": [
      "1259 3925 100\n"
     ]
    }
   ],
   "source": [
    "import xml.etree.ElementTree as ET\n",
    "countevent, countsub, counttext = 0, 0, 0\n",
    "for fname in tqdm.tqdm(onlyfiles):\n",
    "    tree = ET.parse(mypath+fname)\n",
    "    root = tree.getroot()\n",
    "    this_text = None\n",
    "    with open('hieve_processed/' + fname.replace('.xml', '.tsvx'), 'w', encoding='utf8') as fp:\n",
    "        id2name = {}\n",
    "        counttext += 1\n",
    "        name_record = {}\n",
    "        offset2index = {}\n",
    "        passed_id = set([])\n",
    "        for child in root:\n",
    "            if child.tag == 'Text':\n",
    "                while child.text.find('\\n') > -1:\n",
    "                    child.text = child.text.replace('\\n', ' ')\n",
    "                this_text = word_tokenize(child.text.strip())\n",
    "                fp.write('Text\\t' + ' '.join(this_text) + '\\n')\n",
    "            elif child.tag == 'Events':\n",
    "                for event in child:\n",
    "                    id2name[event[0].text] = event[1].text\n",
    "                    index = name_record.get(event[1].text)\n",
    "                    if index is None:\n",
    "                        try:\n",
    "                            this_index = this_text.index(event[1].text)\n",
    "                        except:\n",
    "                            this_index = -1\n",
    "                        if this_index == -1:\n",
    "                            name_record[event[1].text] = this_index\n",
    "                            continue\n",
    "                        offset2index[event[3].text] = this_text.index(event[1].text)\n",
    "                        name_record[event[1].text] = set([offset2index[event[3].text]])\n",
    "                    elif index is not -1:\n",
    "                        this_index = None\n",
    "                        try:\n",
    "                            this_index = [i for i, n in enumerate(this_text) if n == event[1].text][len(name_record[event[1].text])]\n",
    "                        except:\n",
    "                            name_record[event[1].text] = -1\n",
    "                            continue\n",
    "                        offset2index[event[3].text] = this_index\n",
    "                        name_record[event[1].text].add(this_index)\n",
    "                    fp.write('Event\\t')\n",
    "                    fp.write('\\t'.join([e.text for e in event]) + '\\t' + str(this_index) + '\\n')\n",
    "                    passed_id.add(event[0].text)\n",
    "            elif child.tag == 'Relations':\n",
    "                local_events, sup_set, coref_set = set([]), set([]), set([])\n",
    "                coref, trans = {}, {}\n",
    "                sup_write = []\n",
    "                for relation in child:\n",
    "                    if relation[0].text not in passed_id and relation[1].text not in passed_id:\n",
    "                        continue\n",
    "                    #fp.write('Relation\\t')\n",
    "                    #fp.write('\\t'.join([e.text for e in relation[:4]]))\n",
    "                    #fp.write('\\t' + id2name[relation[0].text] + '\\t' + id2name[relation[1].text] + '\\n')\n",
    "                    if relation[2].text.lower() == 'supersub':\n",
    "                        local_events.add(relation[0].text)\n",
    "                        local_events.add(relation[1].text)\n",
    "                        sup_write.append([e.text for e in relation[:4]])\n",
    "                        sup_set.add((relation[0].text, relation[1].text))\n",
    "                        if trans.get(relation[0].text) is None:\n",
    "                            trans[relation[0].text] = [relation[1].text]\n",
    "                        else:\n",
    "                            trans[relation[0].text].append(relation[1].text)\n",
    "                    elif relation[2].text.lower() == 'coref':\n",
    "                        if coref.get(relation[0].text) is None:\n",
    "                            coref[relation[0].text] = set([relation[1].text])\n",
    "                        else:\n",
    "                            coref[relation[0].text].add(relation[1].text)\n",
    "                        if coref.get(relation[1].text) is None:\n",
    "                            coref[relation[1].text] = set([relation[0].text])\n",
    "                        else:\n",
    "                            coref[relation[1].text].add(relation[0].text)\n",
    "                        coref_set.add(( relation[0].text , relation[1].text ))\n",
    "                        coref_set.add(( relation[1].text , relation[0].text ))\n",
    "                        fp.write('Relation\\t')\n",
    "                        fp.write('\\t'.join([e.text for e in relation[:4]]))\n",
    "                        fp.write('\\t' + id2name[relation[0].text] + '\\t' + id2name[relation[1].text] + '\\n')\n",
    "                # Add coref\n",
    "                this_add = []\n",
    "                for line in sup_write:\n",
    "                    if coref.get(line[0]) is not None:\n",
    "                        for e in coref[line[0]]:\n",
    "                            if (e, line[1]) not in coref_set:\n",
    "                                this_add.append([e, line[1], line[2], 'true'])\n",
    "                                sup_set.add((e, line[1]))\n",
    "                    if coref.get(line[1]) is not None:\n",
    "                        for e in coref[line[1]]:\n",
    "                            if (line[0], e) not in coref_set:\n",
    "                                this_add.append([line[0], e, line[2], 'true'])\n",
    "                                sup_set.add((line[0], e))\n",
    "                sup_write += this_add\n",
    "                this_add = []\n",
    "                # Add transitive\n",
    "                # We only consider 2 hops for simplicity\n",
    "                i = 0\n",
    "                while i <= 2:\n",
    "                    i += 1\n",
    "                    for line in sup_write:\n",
    "                        if trans.get(line[1]) is not None:\n",
    "                            this_append = []\n",
    "                            for e in trans[line[1]]:\n",
    "                                if (line[0], e) not in sup_set and (line[0], e) not in coref_set and id2name[line[0]] != id2name[e]:\n",
    "                                    this_add.append([line[0], e, line[2], 'true'])\n",
    "                                    sup_set.add((line[0], e))\n",
    "                                    this_append.append(e)\n",
    "                            for e in this_append:\n",
    "                                if trans.get(e) is not None:\n",
    "                                    trans[line[1]] += trans[e]\n",
    "                    sup_write += this_add\n",
    "                for relation in sup_write:\n",
    "                    fp.write('Relation\\t')\n",
    "                    fp.write('\\t'.join(relation))\n",
    "                    fp.write('\\t' + id2name[relation[0]] + '\\t' + id2name[relation[1]] + '\\n')\n",
    "                    countsub += 1\n",
    "                countevent += len(local_events)\n",
    "print (countevent, countsub, counttext)"
   ]
  },
  {
   "cell_type": "code",
   "execution_count": null,
   "metadata": {},
   "outputs": [],
   "source": []
  },
  {
   "cell_type": "code",
   "execution_count": null,
   "metadata": {},
   "outputs": [],
   "source": []
  },
  {
   "cell_type": "markdown",
   "metadata": {},
   "source": [
    "### NLTK"
   ]
  },
  {
   "cell_type": "code",
   "execution_count": 11,
   "metadata": {},
   "outputs": [
    {
     "name": "stdout",
     "output_type": "stream",
     "text": [
      "[nltk_data] Downloading package propbank to\n",
      "[nltk_data]     C:\\Users\\ccolo\\AppData\\Roaming\\nltk_data...\n",
      "[nltk_data]   Package propbank is already up-to-date!\n",
      "[nltk_data] Downloading package framenet_v17 to\n",
      "[nltk_data]     C:\\Users\\ccolo\\AppData\\Roaming\\nltk_data...\n",
      "[nltk_data]   Unzipping corpora\\framenet_v17.zip.\n"
     ]
    },
    {
     "data": {
      "text/plain": [
       "True"
      ]
     },
     "execution_count": 11,
     "metadata": {},
     "output_type": "execute_result"
    }
   ],
   "source": [
    "import nltk\n",
    "nltk.download('propbank')\n",
    "nltk.download('framenet_v17')"
   ]
  },
  {
   "cell_type": "code",
   "execution_count": 12,
   "metadata": {},
   "outputs": [],
   "source": [
    "from nltk.corpus import framenet as fn"
   ]
  },
  {
   "cell_type": "code",
   "execution_count": 4,
   "metadata": {},
   "outputs": [],
   "source": [
    "from nltk.corpus import propbank\n",
    "pb_instances = propbank.instances()"
   ]
  },
  {
   "cell_type": "code",
   "execution_count": 7,
   "metadata": {},
   "outputs": [
    {
     "name": "stdout",
     "output_type": "stream",
     "text": [
      "['abandon', 'abate', 'abdicate', 'abet', 'abide', ...]\n"
     ]
    }
   ],
   "source": [
    "print (propbank.verbs())"
   ]
  },
  {
   "cell_type": "code",
   "execution_count": 40,
   "metadata": {},
   "outputs": [
    {
     "name": "stdout",
     "output_type": "stream",
     "text": [
      "skulk\n",
      "[]\n"
     ]
    }
   ],
   "source": [
    "print (fn.lu(len(fn.frames())-1).lexemes[0]['name'])"
   ]
  },
  {
   "cell_type": "code",
   "execution_count": 43,
   "metadata": {},
   "outputs": [
    {
     "name": "stdout",
     "output_type": "stream",
     "text": [
      "[nltk_data] Downloading package propbank to\n",
      "[nltk_data]     C:\\Users\\ccolo\\AppData\\Roaming\\nltk_data...\n",
      "[nltk_data]   Package propbank is already up-to-date!\n",
      "[nltk_data] Downloading package framenet_v17 to\n",
      "[nltk_data]     C:\\Users\\ccolo\\AppData\\Roaming\\nltk_data...\n",
      "[nltk_data]   Package framenet_v17 is already up-to-date!\n",
      "3395\n",
      "{'cake', 'formulate', 'sip', 'ambush', 'clamber', 'come', 'spirit', 'surround', 'take', 'join', 'flirt', 'want', 'hook', 'impress', 'bloody', 'deregulate', 'spoil', 'blaze', 'bless', 'haunt', 'drink', 'unite', 'indict', 'back', 'deepen', 'eat', 'atone', 'discharge', 'endorse', 'coat', 'exhaust', 'find', 'ruffle', 'shroud', 'unravel', 'redden', 'place weight', 'symbolize', 'scoff', 'cancel', 'smart', 'relax', 'fine', 'banish', 'remove', 'read', 'cast', 'design', 'budget', 'anticipate', 'crown', 'black', 'scatter', 'entrance', 'faint', 'sign', 'ally', 'enact', 'befall', 'reiterate', 'three', 'out', 'humble', 'expand', 'cheapen', 'declassify', 'savor', 'eradicate', 'include', 'caricature', 'reawaken', 'reimburse', 'oppose', 'descend', 'woo', 'cede', 'conclude', 'eye', 'doom', 'reside', 'snare', 'shock', 'inflict', 'comfort', 'train', 'create', 'foil', 'hiss', 'firm', 'trample', 'row', 'scan', 'decentralize', 'pledge', 'tread', 'reassign', 'manage', 'underscore', 'peer', 'profile', 'raze', 'discount', 'chart', 'counterattack', 'overdose', 'wholesale', 'retract', 'float', 'master', 'impel', 'insert', 'besiege', 'roost', 'cripple', 'subordinate', 'imagine', 'bankroll', 'quibble', 'worsen', 'announce', 'propagandize', 'along with', 'reckon', 'disband', 'log', 'cope', 'release', 'repatriate', 'tremble', 'mislay', 'beat', 'subtitle', 'rush', 'sap', 'devalue', 'publicly', 'voice', 'astound', 'malign', 'uproot', 'queue', 'localize', 'recommend', 'nickname', 'cart', 'redeploy', 'battle', 'adorn', 'farm', 'lengthen', 'pyramid', 'inhabit', 'precipitate', 'reform', 'entice', 'pause', 'topple', 'skim', 'signify', 'exude', 'thousand', 'deride', 'dispute', 'lease', 'jail', 'sleep', 'out of', 'prior', 'despair', 'permeate', 'stitch', 'subsequently', 'straddle', 'tug', 'depose', 'affect', 'defuse', 'wriggle', 'lurk', 'exert', 'think', 'outweigh', 'intone', 'gray', 'persist', 'determine', 'feature', 'overdo', 'slog', 'unfold', 'aim', 'torment', 'bifurcate', 'recycle', 'abuse', 'advise', 'do', 'sigh', 'lift', 'tutor', 'recount', 'homer', 'receive', 'drag', 'pursue', 'undo', 'crimp', 'outlaw', 'manhandle', 'segment', 'confirm', 'recreate', 'license', 'adequately', 'squander', 'guess', 'introduce', 'drool', 'ease', 'trust', 'require', 'outnumber', 'slip', 'bring', 'cheer', 'participate', 'copy', 'practice', 'screech', 'test', 'boycott', 'pull', 'ensnarl', 'peek', 'resonate', 'insure', 'nod', 'womanize', 'amaze', 'prize', 'contrast', 'sing', 'deplete', 'sweeten', 'consist', 'win', 'fix', 'internationally', 'rev', 'pipe', 'size', 'embrace', 'slate', 'scorn', 'wade', 'wallow', 'garner', 'freeze', 'burnish', 'assert', 'bloom', 'found', 'retaliate', 'smile', 'fork', 'inquire', 'leave', 'pop', 'backpedal', 'mention', 'accede', 'summarize', 'disagree', 'fake', 'reap', 'graze', 'mumble', 'disengage', 'chide', 'exempt', 'probe', 'disqualify', 'thumb', 'up', 'inadequately', 'bandy', 'compare', 'congratulate', 'coax', 'stumble', 'beep', 'leapfrog', 'waver', 'double', 'disgust', 'fool', 'attract', 'aid', 'harry', 'peddle', 'prune', 'browbeat', 'slow', 'plow', 'slither', 'weep', 'hash', 'overwhelm', 're-emphasize', 'generate', 'bud', 'penetrate', 'chug', 'appall', 'boo', 'pre-empt', 'arouse', 'migrate', 'halt', 'index', 'decrease', 'differentiate', 'empathize', 'picture', 'separate', 'chat', 'revoke', 'remand', 'elaborate', 'prearrange', 'decorate', 'engage', 'retail', 'concern', 'jack', 'stifle', 'feud', 'refit', 'collect', 'yield', 'act', 'smell', 'bound', 'interfere', 'irradiate', 'cadge', 'bar', 'circumvent', 'glut', 'convince', 'dread', 'radio', 'right', 'cycle', 'post', 'regain', 'know', 'growl', 'plenty', 'terrify', 'resist', 'bias', 'predict', 'refund', 'propose', 'last', 'revisit', 'ration', 'impugn', 'pack', 'spread', 'circle', 'disembark', 'prefer', 'field', 'remunerate', 'unjustly', 'barge', 'abridge', 'chill', 'dignify', 'mark', 'certainly', 'redress', 'countenance', 'rat', 'occupy', 'team', 'chance', 'flunk', 'exercise', 'mop', 'toast', 'trail', 'whack', 'breathe', 'merit', 'arrange', 'frighten', 'barter', 'cloak', 'moonlight', 'demobilize', 'retrace', 'wipe', 'gesture', 'weave', 'bundle', 'exacerbate', 'debunk', 'defeat', 'distance', 'purge', 'differ', 'reassure', 'shun', 'squirm', 'stir', 'fritter', 'encumber', 'stuff', 'quash', 'review', 'staple', 'touch', 'against', 'dispel', 'sputter', 'discipline', 'wail', 'expunge', 'marry', 'knead', 'resent', 'order', 'observe', 'parch', 'tramp', 'swear', 'ace', 'miss', 'turn', 'overlap', 'mislead', 'decease', 'pillory', 'time', 'mix', 'seal', 'fog', 'wonder', 'assess', 'fester', 'negotiate', 'ostensibly', 'aspire', 'investigate', 'fry', 'outline', 'reinforce', 'persecute', 'torch', 'content', 'narrow-mindedly', 'rail', 'clash', 'omit', 'refile', 'execute', 'flop', 'favor', 'threaten', 'chasten', 'attribute', 'conform', 'stack', 'endanger', 'wear', 'mint', 'over', 'lash', 'increase', 'whoop', 'blurt', 'estrange', 'underperform', 'inspect', 'redirect', 'stick', 'stoke', 'fracture', 'betray', 'flicker', 'map', 'muster', 'vow', 'clog', 'chair', 'traipse', 'gore', 'widow', 'allege', 'franchise', 'book', 'rid', 'refer', 'sidestep', 'kayo', 'liquify', 'behave', 'linger', 'finance', 'balance', 'attest', 'top', 'guide', 'import', 'overpower', 'jar', 'disgorge', 'offer', 'disappoint', 'cooperate', 'rationalize', 'brave', 'patronize', 'down the road', 'prosecute', 'thrust', 'gross', 'metabolize', 'enjoin', 'shuffle', 'telephone', 'deceive', 'declare', 'daunt', 'elevate', 'squeeze', 'hightail', 'station', 'gallop', 'jump', 'reprove', 'suffice', 'insightfully', 'quarrel', 'finish', 'examine', 'wow', 'shadow', 'convert', 'imperil', 'argue', 'guarantee', 'exhort', 'hamstring', 'rent', 'in order', 'patch', 'fertilize', 'knock', 'record', 'with on', 'reexamine', 'bear', 'squelch', 'quote', 'ruminate', 'interconnect', 'call', 'conspire', 'mistreat', 'address', 'insinuate', 'appoint', 'restrict', 'rough', 'start', 'assure', 'sniff', 'irk', 'fade', 'pile', 'invade', 'club', 'cleanse', 'sterilize', 'underline', 'coerce', 'exorcise', 'tap', 'render', 'tarnish', 'incline', 'silence', 'ensure', 'slump', 'stabilize', 'pump', 'chuck', 'halve', 'shield', 'plunk', 'glean', 'pound', 'brandish', 'clarify', 'fell', 'eviscerate', 'denounce', 'jettison', 'oversell', 'devastate', 'stab', 'idle', 'bike', 'term', 'muck', 'contradict', 'total', 'enliven', 'judge', 'construct', 'to', 'string', 'sentence', 'sandwich', 'depreciate', 'previously', 'extinguish', 'scout', 'probably', 'qualify', 'swim', 'embroil', 'unplug', 'unroll', 'wed', 'detract', 'endow', 'froth', 'slap', 'narrow', 'alienate', 'indulge', 'kindle', 'indoctrinate', 'traumatize', 'under the influence (of)', 'rivet', 'reclassify', 'mouth', 'dispense', 'toughen', 'traduce', 'cuff', 'grouse', 'man', 'burglarize', 'scrutinize', 'rely', 'levy', 'teeter', 'uncover', 'perturb', 'pummel', 'piggyback', 'magnify', 'convene', 'rearrange', 'replenish', 'pervade', 'match', 'maul', 'outflank', 'cobble', 'slack', 'project', 'precede', 'infect', 'decline', 'refinance', 'dedicate', 'pulverize', 'wander', 'compress', 'induce', 'craft', 'war', 'customize', 'suit', 'outdistance', 'entrench', 'rumble', 'give job', 'mingle', 'advertise', 'repair', 'nurture', 'encroach', 'function', 'involve', 'accommodate', 'shear', 'plunge', 'cushion', 'clean', 'hunch', 'people', 'obey', 'launder', 'broadcast', 'transfer', 'choose', 'pin', 'embolden', 'overrule', 'commission', 'fold', 'edit', 'depress', 'shout', 'overtake', 'defraud', 'square', 'form', 'allocate', 'disapprove', 'ripple', 'add', 'surprise', 'spend', 'install', 'broaden', 'vanish', 'shoot', 'carry', 'disprove', 'where', 'industrialize', 'glue', 'inundate', 'with', 'denude', 'hoist', 'redistribute', 'scarf', 'dislike', 'dupe', 'hospitalize', 'belie', 'heat', 'evade', 'thrash', 'head', 'elude', 'impose', 'cook', 'film', 'hand', 'amortize', 'enlist', 'captain', 'veto', 'wrench', 'gamble', 'constrict', 'fasten', 'calibrate', 'crawl', 'scrap', 'populate', 'undulate', 'snowball', 'according to', 'sock', 'demilitarize', 'transport', 'destroy', 'pester', 'ignite', 'thereafter', 'meddle', 'furlough', 'blast', 'crop', 'tape', 'evidence', 'illustrate', 'implement', 'inform', 'mass', 'salt', 'educate', 'encapsulate', 'shrink', 'parry', 'sail', 'boast', 'eschew', 'maximize', 'skid', 'assist', 'stunt', 'adjust', 'around', 'hover', 'compound', 'lobby', 'avenge', 'structure', 'quack', 'exist', 'yell', 'catapult', 'curb', 'owe', 'restrain', 'arm', 'block', 'greet', 'rally', 'scuttle', 'reprint', 'attach', 'govern', 'hate', 'compute', 'constrain', 'assassinate', 'weigh', 'preserve', 'hulk', 'jut', \"pull the wool over (someone's) eyes\", 'adhere', 'condition', 'bedevil', 'frolic', 'resort', 'bid', \"tip (someone's) hand\", 'constitute', 'exaggerate', 'feed', 'draw', 'bode', 'subpoena', 'hemorrhage', 'sell', 'saddle', 'buck', 'code', 'ask', 'so far', 'televise', 'measure', 'reject', 'castigate', 'entangle', 'suspend', 'free', 'confine', 'stimulate', 'traditionally', 'overpay', 'expose', 'consign', 'crouch', 'incur', 'trot', 'describe', 'dot', 'expire', 'strap', 'caption', 'chop', 'rip', 'tether', 'occur', 'kill', 'clutter', 'tire', 'ponder', 'counter', 'speak', 'gun', 'wiggle', 'delight', 'chronicle', 'gush', 'produce', 'dismantle', 'fabricate', 'repay', 'zero', 'hundred', 'disincline', 'tote', 'arch', 'rhyme', 'bore', 'contact', 'notch', 'tackle', 'campaign', 'broker', 'strengthen', 'superimpose', 'for', 'anoint', 'erode', 'moderate', 'renew', 'clamor', 'capitulate', 'commercialize', 'inspire', 'miff', 'antagonize', 'impart', 'intimidate', 'pounce', 'scotch', 'blacken', 'disintegrate', 'overstrain', 'emulate', 'chew', 'dry', 'shove', 'hint', 'wound', 'discard', 'assimilate', 'restore', 'disarm', 'recharge', 'overreact', 'quadruple', 'hence', 'walk', 'rarefy', 'relish', 'perk', 'dismember', 'lap', 'prevent', 'rekindle', 'redesign', 'segregate', 'poke', 'chalk', 'pinpoint', 'encrust', 'impair', 'cement', 'refuse', 'transform', 'stroll', 'tend', 'spell', 'seduce', 'blur', 'funnel', 'remedy', 'route', 'usurp', 'divorce', 'overheat', 'stomp', 'wedge', 'infer', 'on and off', 'hole', 'amplify', 'proclaim', 'fume', 'conduct', 'kiss', 'emasculate', 'wrack', 'din', 'price', 'refocus', 'prop', 'extradite', 'falter', 'quantify', 'reverse', 'perfect', 'swindle', 'contemporize', 'characterize', 'limit', 'approach', 'cost', 'matter', 'escort', 'batter', 'arrive', 'clutch', 'deactivate', 'electrify', 'explore', 'seven', 'detail', 'reflect', 'uphold', 'buzz', 'legitimize', 'liberate', 'update', 'impeach', 'cry', 'provoke', 'cease', 'breach', 'standardize', 'profiteer', 'shake', 'invoke', 'fancy', 'welcome', 'outpace', 'count', 'deploy', 'toot', 'mate', 'laud', 'bottle', 'object', 'struggle', 'lapse', 'near', 'tally', 'draft', 'perceive', 'sliver', 'forgo', 'subsidize', 'unify', 'forfeit', 'trump', 'study', 'authorize', 'neutralize', 'evoke', 'revolutionize', 'rebuke', 'undervalue', 'furnish', 'root', 'hasten', 'quip', 'clothe', 'commence', 'tower', 'ship', 'demote', 'disavow', 'resume', 'rumor', 'along', 'consummate', 'decree', 'simulate', 'inaugurate', 'dicker', 'deck', 'shut', 'rot', 'lay', 'muffle', 'interlope', 'butt', 'amount', 'lop', 'originate', 'pretend', 'swell', 'supposedly', 'affiliate', 'envision', 'network', 'stare', 'tear', 'reinvigorate', 'thank', 'manufacture', 'predispose', 'rival', 'redo', 'splash', 'cherish', 'hug', 'stand', 'rhythmically', 'stay', 'succeed', 'unblock', 'capture', 'americanize', 'slacken', 'sh', 'eavesdrop', 'evacuate', 'let', 'visit', 'generalize', 'polarize', 'endeavor', 'police', 'triple', 'accelerate', 'camouflage', 'mistake', 'retrain', 'redound', 'certify', 'dine', 'grimace', 'muscle', 'pontificate', 'vex', 'stash', 'mutilate', 'subsume', 'frame', 'unlock', 'deal', 'thirty', 'chastise', 'boil', 'phase', 'stub', 'ripen', 'peck', 'scale', 'select', 'restart', 'flinch', 'drop', 'mesh', 'lock', 'subdue', 'utilize', 'victimize', 'reach', 'ravage', 'presage', 'hitch', 'emotionally', 'disassemble', 'maintain', 'pan', 'anchor', 'penalize', 'ground', 'blare', 'disappear', 'show', 'enable', 'fantasize', 'suffer', 'because of', 'stone', 'shoulder', 'infuse', 'promulgate', 'register', 'blend', \"make (someone's) acquaintance\", 'abandon', 'militate', 'sweat', 'cool', 'air', 'erase', 'shower', 'utter', 'flow', 'roll', 'diagnose', 'glow', 'telegraph', 'twitch', 'spawn', 'answer', 'muddle', 'command', 'spark', 'charge', 'infringe', 'snatch', 'wield', 'criticize', 'recur', 'double-cross', 'implicate', 'wage', 'hew', 'abate', 'flood', 'pour', 'dissociate', 'foster', 'sound', 'carve', 'hobble', 'trudge', 'stress', 'conflict', 'average', 'swamp', 'pattern', 'saturate', 'dance', 'date', 'grin', 'decontaminate', 'distract', 'churn', 'groan', 'praise', 'program', 'seep', 'confide', 'commend', 'rocket', 'cure', 'depict', 'snub', 'volunteer', 'coast', 'expect', 'retard', 'overbid', 'quicken', 'patent', 'enlighten', 'burble', 'harass', 'snap', 'support', 'grab', 'mortgage', 'break', 'multiply', 'skew', 'strafe', 'adjourn', 'entertain', 'energize', 'recite', 'upset', 'five', 'engrave', 'imply', 'rig', 'before', 'need', 'glare', 'ratchet', 'jingle', 'left', 'marvel', 'obsess', 'careen', 'retry', 'outsell', 'bet', 'reshuffle', 'trivialize', 'specialize', 'lament', 'ski', 'further', 'politicize', 'unhinge', 'subcontract', 'own', 'sort', 'rehash', 'cream', 'escalate', 'fluctuate', 'siphon', 'under suspicion (of)', 'hope', 'capitalize', 'devise', 'give', 'perform', 'cinch', 'destabilize', 'intervene', 'log-roll', 'flourish', 'freak', 'corral', 'extract', 'interrogate', 'dovetail', 'pacify', 're-elect', 'fire', 'mollify', 'consort', 'warm', 'liberalize', 'realize', 'enter', 'gather', 'obliterate', 'tango', 'state', 'smoke', 'overturn', 'disenchant', 'lump', 'gloss', 'doubt', 'calculate', 'epitomize', 'catch', 'shrug', 'rob', 'premiere', 'two', 'dress', 'rediscover', 'articulate', 'discomfit', 'abort', 'dispatch', 'organize', 'skimp', 'establish', 'shuttle', 'estimate', 'coin', 'hit', 'animate', 'lavish', 'legalize', 'abstain', 'mature', 'level', 'bankrupt', 'refashion', 'temper', 'burgeon', 'signal', 'weather', \"pull (someone's) leg\", 'emphasize', 'forsake', 'skipper', 'give notice', 'storm', 'swing', 'kowtow', 'excluding', 'reply', 'sour', 'alternate', 'range', 'believe', 'elect', 'overtax', 'imprison', 'discuss', 'frustrate', 'skirt', 'duplicate', 'replace', 'deviate', 'band', 'manipulate', 'seek', 'inflame', 'rusticate', 'suck', 'taboo', 'deafen', 'sprawl', 'accomplish', 'displace', 'portray', 'risk', 'disparage', 'recognize', 'memorialize', 'respond', 'since', 'grasp', 'slice', 'to date', 'base', 'strew', 'thrive', 'position', 'including', 'catalog', 'popularize', 'scrounge', 'stalk', 'will', 'undermine', 'ring', 'subscribe', 'orient', 'err', 'scurry', 'agree', 'buoy', 'stage', 'carpet', 'disturb', 'recapture', 'harden', 'disregard', 'console', 'flout', 'crack', 'prod', 'reclaim', 'apologize', 'place', 'reschedule', 'override', 'reactivate', 'park', 'redouble', 'plummet', 'speed', 'exploit', 'predetermine', 'rack', 'weld', 'tamper', 'bump', 'enforce', 'at', 'insult', 'survive', 'agonize', 'beef', 'board', 'simmer', 'belittle', 'disgruntle', 'go', 'redline', 'cave', 'sanitize', 'sensitize', 'cite', 'mushroom', 'reestablish', 'about', 'accustom', 'exclaim', 'weaken', 'embellish', 'raid', 'pockmark', 'load', 'bolster', 'juxtapose', 'screw', 'ventilate', 'intertwine', 'photocopy', 'contend', 'boom', 'identify', 'recant', 'grind', 'contest', 'miscalculate', 'hoe', 'depend', 'regenerate', 'beware', 'dab', 'filch', 'postpone', 'share', 'reassert', 'shatter', 'labor', 'bewitch', 'co-sponsor', 'mass-produce', 'reason', 'phone', 'partake', 'strand', 'brief', 'change', 'void', 'placate', 'fear', 'ago', 'postmark', 'clamp', 'bruise', 'prepay', 'ticket', 'historically', 'classify', 'flush', 'query', 'rewrite', 'short', 'abolish', 'elongate', 'first', 'paw', 'even', 'polish', 'reign', 'talk', 'wheel', 'fraction', 'enlarge', 'captivate', 'damage', 'preclude', 'consult', 'mean', 'trim', 'theorize', 'appeal', 'acknowledge', 'bridge', 'dash', 'forbid', 'delouse', 'romp', 'stow', 'billow', 'vindicate', 'shift', 'interrupt', 'pro', 'upgrade', 'whisper', 'title', 'trek', 'brighten', 'enroll', 'feel', 'bungle', 'seem', 'toil', 'demonize', 'staff', 'wheeze', 'chip', 'bootleg', 'buffet', 'resolve', 'step', 'taste', 'invalidate', 'wish', 'democratize', 'outshine', 'stagnate', 'bomb', 'lecture', 'strangle', 'handicap', 'net', 'tangle', 'dwarf', 'illuminate', 'absolve', 'accumulate', 'strive', 'run', 'champion', 'rank', 'rim', 'vary', 'camp', 'mute', 'down', 'mill', 'finalize', 'couch', 'sizzle', 'violate', 'beset', 'peal', 'scamper', 'subject', 'surmount', 'breed', 'monopolize', 'resurrect', 'pressure', 'sympathize', 'ping', 'recall', 'torpedo', 'center', 'bind', 'entrust', 'transplant', 'check', 'overshadow', 'corner', 'direct', 'torture', 'assuage', 'cluster', 'pronounce', 'wave', 'carelessly', 'occasion', 'privatize', 'limp', 'print', 'cruise', 'stud', 'compel', 'put', 'sneak', 'purportedly', 'tank', 'provide', 'award', 'feast', 'cower', 'apply', 'cohere', 'brazen', 'land', 'spring', 'narrowly', 'parcel', 'gyrate', 'redeem', 'simplify', 'live', 'beleaguer', 'blink', 'orchestrate', 'portend', 'inhibit', 'repute', 'jinx', 'pepper', 'salute', 'impoverish', 'mitigate', 'store', 'clank', 'pedal', 'clip', 'liquidate', 'prescribe', 'crisscross', 'relay', 'shiver', 'succumb', 'nibble', 'discriminate', 'photograph', 'trade', 'shepherd', 'libel', 'underpin', 'foreclose', 'fleece', 'palm', 'pray', 'round', 'shine', 'profit', 'anger', 'quiet', 'cram', 'assume', 'fetch', 'fuss', 'rape', 'neighbor', 'hammer', 'bulge', 'annoy', 'intersperse', 'notify', 'give thought', 'overwork', 'fascinate', 'begin', 'leak', 'forward', 'donate', 'buckle', 'grumble', 'label', 'arbitrage', 'ramble', 'trespass', 'graft', 'jolt', 'bother', 'garden', 'mirror', 'recover', 'relieve', 'snag', 'possess', 'tighten', 'evaporate', 'stockpile', 'sooner rather than later', 'engulf', 'enrich', 'lie', 'present', 'honor', 'clock', 'reignite', 'branch', 'comment', 'port', 'east', 'empty', 'crave', 'deflate', 'masquerade', 'of', 'oversee', 'surpass', 'unleash', 'deduct', 'bottom', 'impound', 'chuckle', 'proofread', 'misuse', 'undergo', 'fail', 'loathe', 'hypnotize', 'obligate', 'in', 'stream', 'wring', 'suppress', 'play', 'wrongly', 'harm', 'peg', 'retain', 'brush', 'straighten', 'defy', 'roil', 'sag', 'amend', 'sport', 'on', 'in the hope of', 'off', 'preside', 'swallow', 'quit', 'dial', 'become', 'kick', 'bowl', 'repeat', 'urge', 'silt', 'boat', 'fend', 'connect', 'milk', 'understate', 'wire', 'supplement', 'comply', 'belong', 'fatten', 'follow', 'decimate', 'insist', 'pine', 'espouse', 'falsify', 'spar', 'overcome', 'ache', 'consider', 'culminate', 'insufficiently', 'prompt', 'venture', 'slope', 'lord', 'bust', 'rile', 'sense', 'applaud', 'reunite', 'explode', 'appropriate', 'light', 'vote', 'attend', 'belly-flop', 'bypass', 'dwindle', 'vacuum', 'streamline', 'overvalue', 'debut', 'fine-tune', 'couple', 'send', 'evolve', 'sink', 'pamper', 'underestimate', 'mobilize', 'disseminate', 'accrete', 'junk', 'replicate', 'incite', 'headline', 'acquit', 'tot', 'aver', 'enclose', 'exemplify', 'pen', 'sanction', 'bristle', 'affirm', 'fax', 'plant', 'opt', 'host', 'dismay', 'bread', 'lack', 'stew', 'tout', 'rankle', 'rescind', 'institute', 'hesitate', 'contain', 'misunderstand', 'dish', 'blame', 'speculate', 'bulldoze', 'help', 'negate', 'mock', 'set', 'jet', 'regroup', 'resign', 'snake', 'research', 'clinch', 'scream', 'debate', 'poll', 'commemorate', 'smash', 'comb', 'proffer', 'spook', 'harp', 'appear', 'lumber', 'drown', 'buy', 'enrage', 'scoot', 'within', 'billion', 'erect', 'accrue', 'emerge', 'ingratiate', 'instigate', 'skirmish', 'clang', 'fare', 'allow', 'founder', 'rearm', 'reset', 'litter', 'strip', 'recess', 'acclaim', 'scramble', 'reserve', 'merchandise', 'as of yet', 'document', 'connote', 'lighten', 'withstand', 'bail', 'shred', 'stall', 'relinquish', 'thunder', 'magnetize', 'croon', 'joke', 'refresh', 'remodel', 'reorganize', 'wrangle', 'poach', 'bargain', 'substitute', 'tie', 'fuel', 'safeguard', 'finger', 'toss', 'coddle', 'transmogrify', 'munch', 'envisage', 'edge', 'mire', 'vent', 'scandalize', 'brace', 'plead', 'hold', 'conceal', 'demand', 'pardon', 'heap', 'ride', 'verge', 'still', 'attack', \"hold (one's) tongue\", 'stun', 'regulate', 'disassociate', 'bleed', 'acquiesce', 'murder', 'in terms', 'obviate', 'have', 'shop', 'leverage', 'grovel', 'shorten', 'effect', 'number', 'foment', 'beget', 'expound', 'equal', 'renounce', 'categorize', 'rust', 'pollute', 'scoop', 'request', 'fundraise', 'word', 'brim', 'conjure', 'jerk', 'prey', 'meld', 'mask', 'lag', 'tilt', 'glance', 'emigrate', 'blackmail', 'circulate', 'happen', 'intensify', 'paralyze', 'blot', 'loot', 'tell', 'mow', 'preview', 'nag', 'posture', 'refute', 'diversify', 'fill', 'pose', 'mutate', 'regard', 'consolidate', 'assign', 'apprise', 'too', 'soak', 'computerize', 'hedge', 'unsettle', 'prosper', 'wall', 'bat', 'inflate', 'amass', 'juggle', 'propel', 'suspect', 'refine', 'pluck', 'slim', 'bone', 'coordinate', 'process', 'rear', 'swivel', 'cloud', 'rehabilitate', 'express', 'economize', 'nullify', 'spotlight', 'react', 'retool', 'justify', 'bang', 'confiscate', 'massage', 'deteriorate', 'move', 'default', 'interest', 'underprice', 'sit', 'orphan', 'contaminate', 'botch', 'lunge', 'presume', 'complain', 'lick', 'sack', 'undertake', 'sooner', 'mellow', 'jeopardize', 'rescue', 'all about', 'bend', 'vacillate', 'entail', 'rejoin', 'revel', 'close', 'defer', 'drip', 'delete', 'tax', 'overarch', 'gain', 'distort', 'scour', 'extort', 'mend', 'patrol', 'vibrate', 'romance', 'inherit', 'amalgamate', 'exit', 'awaken', 'nationalize', 'indicate', 'oust', 'obscure', 'hone', 'best', 'compensate', 'market', 'retrieve', 'embark', 'bog', 'embargo', 'proscribe', 'dawdle', 'rub', 'thrill', 'mediate', 'marginalize', 'scrape', 'unnerve', 'learn', 'compact', 'represent', 'cap', 'whoosh', 'abet', 'forgive', 'save', 'resuscitate', 'merge', 'stanch', 'target', 'mourn', 'canvass', 'rain', 'persuade', 'warn', 'outstrip', 'escape', 'cross-pollinate', 'grapple', 'build', 'relive', 'afterwards', 'trap', 'rupture', 'single', 'slay', 'codify', 'disconnect', 'vie', 'deform', 'peruse', 'tip', 'deserve', 'tumble', 'obstruct', 'dizzy', 'proliferate', 'rethink', 'reopen', 'bond', 'concede', 'rest', 'wreak', 'corroborate', 'jell', 'fret', 'clear', 'experiment', 'span', 'harbor', 'resubmit', 'zap', 'caution', 'echo', 'arbitrate', 'detain', 'countervail', 'profess', 'obtain', 'overhaul', 'crank', 'initial', 'slash', 'bash', 'criminalize', 'innovate', 'opine', 'demur', 'embed', 'crane', 'pollinate', 'vault', 'frequent', 'rename', 'pace', 'deposit', 'twiddle', 'meander', 'account', 'appreciate', 'challenge', 'dig', 'publish', 'dazzle', 'overuse', 'reshape', 'deflect', 'control', 'instill', 'end', 'sew', 'modernize', 'drum', 'indemnify', 'shell', 'demonstrate', 'flatten', 'festoon', 'exhale', 'miniaturize', 'discover', 'remember', 'furrow', 'proceed', 'spurt', 'invent', 'name', 'readmit', 'relate', 'wreck', 'dangle', 'cash', 'synthesize', 'soil', 'serve', 'abdicate', 'psychologically', 'emit', 'devour', 'intercede', 'rebuff', 'intimate', 'pick', 'trash', 'refurbish', 'fudge', 'revert', 'surge', 'buff', 'gloat', 'jiggle', 'crest', 'shed', 'bill', 'vend', 'integrate', 'snivel', 'sufficiently', 'geographically', 'retire', 'climb', 'secure', 'widen', 'coach', 'discredit', 'desist', 'pore', 'off and on', 'bewilder', 'stagger', 'disdain', 'grow', 'aggravate', 'irritate', 'cut', 'approve', 'elapse', 'ham', 'keep', 'cater', 'overlay', 'relegate', 'dissent', 'kidnap', 'launch', 'stock', 'pawn', 'please', 'cringe', 'soften', 'operate', 'purr', 'list', 'click', 'audition', 'immigrate', 'wrap', 'creak', 'loom', 'flaw', 'by', 'tinker', 'nudge', 'redefine', 'co-author', 'wait tables', 'castle', 'house', 'testify', 'defend', 'excoriate', 'repossess', 'seethe', 'spot', 'absorb', 'blanket', 'blow', 'dominate', 'clone', 'misspend', 'ooze', 'collapse', 'ply', 'channel', 'backfire', 'dismiss', 'overthrow', 'flounder', 'entwine', 'beforehand', 'thin', 'develop', 'harvest', 'finagle', 'press', 'stem', 'awake', 'weight', 're-emerge', 'contravene', 'erupt', 'reformulate', 'flock', 'mishandle', 'trick', 'crunch', 'power', 'fund', 'subtract', 'gossip', 'paint', 'unmask', 'pinch', 'deport', 'deprive', 'cause', 'augment', 'counterbalance', 'foresee', 'thwart', 'influence', 'pale', 'resurface', 'pair', 'ignore', 'waive', 'legislate', 'heighten', 'dampen', 'alleviate', 'evaluate', 'airlift', 'incriminate', 'disclose', 'rendezvous', 'convey', 'lambaste', 'so', 'despise', 'solve', 'perpetuate', 'rattle', 'afflict', 'compromise', 'huddle', 'spike', 'second-guess', 'pry', 'plague', 'glamorize', 'reproduce', 'foot', 'choke', 'embezzle', 'hinge', 'trace', 'deplore', 'claim', 'loosen', 'revolve', 'snipe', 'underwrite', 'requisition', 'berate', 'injure', 'restate', 'pioneer', 'dye', 'wait', 'convolute', 'tuck', 'flay', 'lodge', 'invert', 'chisel', 'wrest', 'unveil', 'writhe', 'lead', 'gleam', 'style', 'heed', 'burst', 'understand', 'sponsor', 'sustain', 'befriend', 'tease', 'rule', 'point', 'deliver', 'lace', 'trundle', 'plot', 'rise', 'coincide', 'cling', 'wind', 'seat', 'facilitate', 'reinstall', 'shirk', 'mess', 'star', 'translate', 'purport', 'hatch', 'slide', 'abide', 'tick', 'infiltrate', 'smolder', 'char', 'accord', 'bark', 'dump', 'grant', 'file', 'flash', 'economically', 'decelerate', 'align', 'reintroduce', 'love', 'acquire', 'chafe', 'pool', 'satisfy', 'herald', 'compile', 'fling', 'reapportion', 'ascend', 'course', 'foul', 'reconstruct', 'listen', 'holler', 'empower', 'sober', 'hurt', 'envy', 'reintegrate', 'fly', 'remark', 'deny', 'lose', 'rage', 'emote', 'mail', 'protect', 'hinder', 'rejuvenate', 'deliberate', 'benefit', 'mold', 'promote', 'flabbergast', 'hypothesize', 'starve', 'glide', 'modulate', 'prance', 'dare', 'perpetrate', 'short-circuit', 'pirate', 'strike', 'swap', 'unlike', 'disallow', 'behind', 'infuriate', 'syndicate', 'encircle', 'cultivate', 'jam', 'treble', 'scrimp', 'tar', 'salve', 'secretly', 'outrage', 'stupidly', 'one', 'excel', 'transcribe', 'mimic', 'spray', 'plan', 'advocate', 'deter', 'humanize', 'culturally', 'rock', 'clobber', 'hustle', 'graduate', 'handle', 'rebel', 'solidify', 'pertain', 'spiral', 'outbid', 'shimmer', 'lug', 'sprout', 'divide', 'diminish', 'repudiate', 'notice', 'financially', 'shelve', 'smother', 'forget', 'scratch', 'fizz', 'nosedive', 'continue', 'renege', 'disclaim', 'embody', 'stop', 'lower', 'modify', 'repress', 'ebb', 'heal', 'confuse', 'grace', 'correspond', 'water', 'advance', 'outgrow', 'make', 'mandate', 'travel', 'squint', 'shelter', 'smack', 'sever', 'exhibit', 'display', 'tune', 'march', 'pass', 'autograph', 'admit', 'attain', 'evince', 'complicate', 'decide', 'recoup', 'retreat', 'tone', 'expedite', 'necessitate', 'gasp', 'muse', 'correct', 'enough', 'grip', 'accompany', 'afford', 'snort', 'degenerate', 'prevail', 'open', 'unfairly', 'maneuver', 'extend', 'seize', 'bribe', 'jostle', 'specify', 'overflow', 'stampede', 'whipsaw', 'predicate', 'repel', 'force', 'rebuild', 'suggest', 'budge', 'minimize', 'focus', 'divest', 'destine', 'spur', 'normalize', 'seed', 'relent', 'result', 'gape', 'instruct', 'access', 'ogle', 'resell', 'fulfill', 'converge', 'discolor', 'safely', 'cough', 'embarrass', 'adopt', 'alarm', 'remake', 'sharpen', 'crow', 'age', 'liken', 'validate', 'disguise', 'crackle', 'adapt', 'don', 'ensue', 'lurch', 'concerning', 'dictate', 'whittle', 'appease', 'equip', 'up to', 'flog', 'inject', 'blab', 'respect', 'vacate', 'die', 'stake', 'flank', 'interject', 'repaint', 'expel', 'prolong', 'cover', 'retake', 'collaborate', 'conceive', 'streak', 'tag', 'nurse', 'later', 'locate', 'right away', 'glaze', 'remind', 'attempt', 'delegate', 'solicit', 'summon', 'concentrate', 'subvert', 'exile', 'scowl', 'outdo', 'bully', 'entomb', 'memorize', 'worry', 'misrepresent', 'bludgeon', 'riskily', 'crush', 'covet', 'steady', 'hang', 'ballyhoo', 'trigger', 'nick', 'lull', 'whistle', 'beyond', 'issue', 'commute', 'sublet', 'dust', 'hurtle', 'swerve', 'initiate', 'pocket', 'sacrifice', 'drill', 'hack', 'unearth', 'achieve', 'carp', 'counsel', 'suppose', 'dream', 'galvanize', 'use', 'dissolve', 'expend', 'intercept', 'haggle', 'secede', 'kid', 'reel', 'renovate', 'trumpet', 'as yet', 're-enter', 'experience', 'legally', 'rebut', 'tour', 'stink', 'combat', 'mine', 'barrel', 'consent', 'desert', 'define', 'typify', 'push', 'foam', 'reorient', 'arise', 'punch', 'shag', 'foreshadow', 'isolate', 'reinstate', 'recede', 'report', 'depart', 'fawn', 'spy', 'relocate', 'heave', 'fit', 'raise', 'stretch', 'ordain', 'ferret', 'contemplate', 'incorporate', 'stain', 'throw', 'implant', 'damp', 'visualize', 'downgrade', 'teem', 'stomach', 'redevelop', 'brew', 'oblige', 'ram', 'preoccupy', 'conserve', 'whip', 'ban', 'reaffirm', 'smooth', 'con', 'motorize', 'languish', 'discourage', 'eyeball', 'reposition', 'side', 'borrow', 'brag', 'fall', 'balk', 'outfit', 'detach', 'retrofit', 'piece', 'sketch', 'gear', 'hurl', 'roar', 'diverge', 'terminate', 'divvy', 'get', 'pave', 'agitate', 'fray', 'enhance', 'fan', 'fault', 'wake', 'resurge', 'mount', 'tempt', 'defect', 'steam', 'ferry', 'offset', 'mar', 'spout', 'reallocate', 'underlie', 'creep', 'hire', 'socialize', 'invite', 'spruce', 'flaunt', 'search', 'quiz', 'synchronize', 'encourage', 'invest', 'muzzle', 'like', 'return', 'convict', 'demolish', 'consume', 'question', 'bounce', 'rebound', 'fizzle', 'scold', 'misinterpret', 'ramp', 'retrench', 'dissipate', 'automate', 'whisk', 'concur', 'look', 'activate', 'encase', 'undercut', 'revitalize', 'burden', 'discern', 'flip', 'drive', 'remain', 'designate', 'curtail', 'dive', 'gird', 'reassess', 'allude', 'view', 'intrude', 'reimpose', 'chain', 'sabotage', 'credit', 'bury', 'reportedly', 'twist', 'wrong', 'rework', 'author', 'major', 'realign', 'copyright', 'filter', 'tail', 'overhang', 'punish', 'all over', 'derive', 'publicize', 'waft', 'supervise', 'wash', 'neglect', 'sue', 'calm', 'whirr', 'explain', 'ahead', 'overlook', 'crumble', 'impend', 'soothe', 'warrant', 'slaughter', 'sway', 'part', 'perch', 'spurn', 'knit', 'ascribe', 'outrank', 'sidetrack', 'bellow', 'divert', 'type', 'possibly', 'race', 'prick', 'restructure', 'note', 'pit', 'disperse', 'submit', 'vitiate', 'analyze', 'wean', 'taper', 'lure', 'buffer', 'improvise', 'hoodwink', 'exceed', 'salvage', 'prepare', 'undersell', 'delay', 'excuse', 'rectify', 'rate', 'verify', 'confront', 'heckle', 'accept', 'manifest', 'encounter', 'forge', 'prove', 'dissect', 'athwart', 'work', 'gripe', 'model', 'tolerate', 'prime', 'unionize', 'bequeath', 'withhold', 'derail', 'censor', 'hum', 'fish', 'bite', 'concoct', 'socially', 'repeal', 'decry', 'eject', 'cross', 'engineer', 'extrapolate', 'fight', 'inch', 'poise', 'zoom', 'pitch', 'sting', 'usher', 'denominate', 'misstate', 'namedrop', 'blunder', 'demean', 'mull', 'monitor', 'dissatisfy', 'materialize', 'fairly', 'service', 'sample', 'zip', 'guard', 'hail', 'shore', 'assemble', 'complete', 'panic', 'acidify', 'encompass', 'roam', 'compliment', 'gauge', 'overprice', 'see', 'survey', 'revamp', 'slam', 'zone', 'lean', 'dethrone', 'plug', 'perceptively', 'skyrocket', 'from', 'revalue', 'leap', 'alter', 'ensconce', 'sift', 'shy', 'huckster', 'muddy', 'eclipse', 'vacation', 'bank', 'oversimplify', 'dissuade', 'screen', 'gut', 'unwind', 'say', 'forecast', 'beam', 'pasteurize', 'joust', 'bow', 'purchase', 'confer', 'waffle', 'supply', 'buttress', 'behead', 'factor', 'million', 'reveal', 'enjoy', 'poison', 'drift', 'scare', 'laminate', 'stave', 'refuel', 'rave', 'wrestle', 'curse', 'trend', 'hide', 'diagram', 'earn', 'spin', 'long', 'scribble', 'exchange', 'pivot', 'endure', 'crowd', 'disobey', 'appraise', 'preach', 'cheat', 'face', 'unload', 'bombard', 'extricate', 'smuggle', 'compete', 'duck', 'through', 'curry', 'crash', 'yelp', 'centralize', 'triumph', 'allay', 'amuse', 'chase', 'wink', 'blindfold', 'comprise', 'desire', 'disburse', 'fragment', 'digest', 'impact', 'as', 'conquer', 'moan', 'soar', 'blunt', 'implore', 'color', 'rake', 'shrivel', 'accuse', 'value', 'hawk', 'entitle', 'ratify', 'ail', 'motivate', 'bemoan', 'disable', 'likely', 'key', 'commit', 'class', 'contribute', 'earmark', 'lend', 'taint', 'reconcile', 'refrain', 'steer', 'beg', 'teach', 'after', 'revive', 'complement', 'flame', 'navigate', 'sow', 'impede', 'communicate', 'package', 'personalize', 'revise', 'nominate', 'assail', 'hurry', 'hear', 'compose', 'overemphasize', 'care', 'quell', 'distinguish', 'ingest', 'border', 'situate', 'abound', 'interview', 'ruin', 'iron', 'bicker', 'hoard', 'dog', 'latch', 'arrest', 'self-destruct', 'tame', 'detest', 'line', 'riff', 'admonish', 'flare', 'waste', 'admire', 'a few', 'settle', 'figure', 'witness', 'shutter', 'better', 'construe', 'spill', 'pay', 'charter', 'chant', 'counteract', 'associate', 'steal', 'stray', 'can', 'equate', 'sob', 'ninety', 're-evaluate', 'exonerate', 'condemn', 'meet', 'regret', 'strain', 'mince', 'excise', 'chauffeur', 'exclude', 'dabble', 'dispose', 'court', 'celebrate', 'dub', 'recruit', 'await', 'alert', 'outlast', 'surrender', 'intend', 'administer', 'dilute', 'imitate', 'distribute', 'costume', 'supersede', 'confess', 'slosh', 'sweep', 'lessen', 'group', 'balloon', 'mind', 'rotate', 'astride', 'audit', 'export', 'intermix', 'overstate', 'displease', 'parallel', 'score', 'loan', 'treat', 'croak', 'hearten', 'snoop', 'crumple', 'herd', 'jog', 'acquaint', 'promise', 'ward', 'reduce', 'subside', 'trouble', 'howl', 'befuddle', 'offend', 'reconsider', 'chortle', 'prohibit', 'parachute', 'boost', 'predate', 'puzzle', 'reappraise', 'vest', 'wither', 'write', 'delve', 'insulate', 'spare', 'link', 'in favor', 'progress', 'watch', 'stamp', 'dawn', 'highlight', 'tan', 'barb', 'immerse', 'incarcerate', 'pare', 'trip', 'peel', 'nail', 'schedule', 'recalculate', 'split', 'wane', 'improve', 'snore', 'cascade', 'misplace', 'permit', 'track', 'fidget', 'shoehorn', 'eliminate', 'rein', 'familiarize', 'stymie', 'squat', 'avoid', 'swathe', 'detect', 'excavate', 'handcuff', 'reward', 'haul', 'petition', 'stonewall', 'tailor', 'shape', 'surface', 'transact', 'combine', 'grope', 'allegedly', 'bestow', 'deem', 'amble', 'resemble', 'gaze', 'totter', 'laugh', 'interpret', 'paste', 'shave', 'withdraw', 'substantiate', 'avert', 'hound', 'stride', 'drain', 'burn', 'stipulate', 'dip', 'switch', 'flee', 'deemphasize', 'melt', 'protest', 'tack', 'tender', 'trickle', 'itemize', 'ridicule', 'romanticize', 'dull', 'spew', 'bolt', 'sprinkle', 'toy', 'wax', 'fashion', 'hunt', 'veer', 'veil', 'curl', 'regarding', 'afterward', 'guzzle', 'encrypt', 'obfuscate', 'sum', 'distill', 'excite', 'flap', 'employ', 'brand', 'try', 'tiptoe', 'stroke', 'hamper', 'gobble', 'bumble', 'contract', 'blossom', 'devote', 'squeegee', 'condone', 'spearhead', 'yank', 'disrupt', 'drape', 'discontinue', 'auction', 'sequester', 'skip', 'chime', 'harness', 'append', 'reverberate', 'peak', 'transmit', 'dodge'}\n"
     ]
    }
   ],
   "source": [
    "## overall\n",
    "import nltk\n",
    "nltk.download('propbank')\n",
    "nltk.download('framenet_v17')\n",
    "from nltk.corpus import propbank\n",
    "from nltk.corpus import framenet as fn\n",
    "verbs = [x.lower() for x in propbank.verbs()]\n",
    "for i in range(len(fn.lus())):\n",
    "    try:\n",
    "        x = fn.lu(i).name[:-2].lower()\n",
    "        x = x[:x.rindex('.')]\n",
    "        verbs.append(x)\n",
    "    except:\n",
    "        pass\n",
    "verbs = set(verbs)\n",
    "print (len(verbs))\n",
    "print (verbs)"
   ]
  },
  {
   "cell_type": "code",
   "execution_count": null,
   "metadata": {},
   "outputs": [],
   "source": []
  }
 ],
 "metadata": {
  "kernelspec": {
   "display_name": "Python 3",
   "language": "python",
   "name": "python3"
  },
  "language_info": {
   "codemirror_mode": {
    "name": "ipython",
    "version": 3
   },
   "file_extension": ".py",
   "mimetype": "text/x-python",
   "name": "python",
   "nbconvert_exporter": "python",
   "pygments_lexer": "ipython3",
   "version": "3.6.5"
  }
 },
 "nbformat": 4,
 "nbformat_minor": 2
}
